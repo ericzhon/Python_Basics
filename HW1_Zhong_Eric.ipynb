{
  "nbformat": 4,
  "nbformat_minor": 0,
  "metadata": {
    "colab": {
      "name": "HW1_Zhong_Eric",
      "provenance": [],
      "collapsed_sections": []
    },
    "kernelspec": {
      "name": "python3",
      "display_name": "Python 3"
    }
  },
  "cells": [
    {
      "cell_type": "markdown",
      "metadata": {
        "id": "hm8RAKinXsIP"
      },
      "source": [
        "## **Homework 1**\n",
        "\n",
        "### Create a copy of the notebook to start answering the questions. Name your notebook in the format HW1_lastname_firstname.ipynb to facilitate the grading process. \n",
        "\n",
        "### Answer all the questions, test your code to ensure there are no errors and the results are as expected. Once you have answered all the questions, save the final copy, then go to File-> click on Download.ipynb. Once the local copy has been downloaded, submit your file on Blackboard under the corresponding assignment section. Also provide us a link to your notebook during submission. \n",
        "\n",
        "### **The due date of this homework is 02/05/2021 (Friday).**\n",
        "\n",
        "### Please ensure you follow all the steps mentioned in the homework.\n",
        "\n",
        "### All the questions have a sample input and output to help you understand the question. Please note that your programs will be tested for other sets of inputs and outputs along with the sample provided. So test your code for other inputs.\n",
        "\n",
        "### You can submit your solutions any number of times until the deadline.\n"
      ]
    },
    {
      "cell_type": "markdown",
      "metadata": {
        "id": "uacFrEaZfcfq"
      },
      "source": [
        "##### Q1. Write a program that prompts the user to enter a password then prints the length of the password.\n",
        "\n",
        "```\n",
        "Enter your password: hello\n",
        "Your password is 5 long.\n",
        "```\n",
        "\n",
        "\n"
      ]
    },
    {
      "cell_type": "code",
      "metadata": {
        "id": "avPyES14ftCt",
        "colab": {
          "base_uri": "https://localhost:8080/"
        },
        "outputId": "63a410e0-bc53-49d1-b542-ce4c7cd3daf0"
      },
      "source": [
        "userInput = input(print(\"Enter your password: \"))\r\n",
        "print(\"Your password is \" + str(len(userInput)) + \" long.\")"
      ],
      "execution_count": 3,
      "outputs": [
        {
          "output_type": "stream",
          "text": [
            "Enter your password: \n",
            "hello\n",
            "Your password is 5 long.\n"
          ],
          "name": "stdout"
        }
      ]
    },
    {
      "cell_type": "markdown",
      "metadata": {
        "id": "ekh-kABuItli"
      },
      "source": [
        ""
      ]
    },
    {
      "cell_type": "markdown",
      "metadata": {
        "id": "K1yko-xUItU3"
      },
      "source": [
        ""
      ]
    },
    {
      "cell_type": "markdown",
      "metadata": {
        "id": "behD0j_Of2TW"
      },
      "source": [
        "##### Q2. Write a program that prompts the user to enter their full name then prints the number of characters in their name (do not count spaces).\n",
        "\n",
        "```\n",
        "What is your name? Amulya Katti\n",
        "Amulya Katti your name has 11 characters.\n",
        "```"
      ]
    },
    {
      "cell_type": "code",
      "metadata": {
        "id": "XSdIRjwlhSlu",
        "colab": {
          "base_uri": "https://localhost:8080/"
        },
        "outputId": "c2b04783-f23b-4f19-c62d-7fe2e3e29387"
      },
      "source": [
        "userInput = input(print(\"What is your name? \"))\r\n",
        "print(str(userInput) + \" your name has \" + str(len(userInput.replace(\" \",\"\"))) + \" characters\") "
      ],
      "execution_count": 11,
      "outputs": [
        {
          "output_type": "stream",
          "text": [
            "What is your name? \n",
            "Amulya Katti\n",
            "Amulya Katti your name has 11 characters\n"
          ],
          "name": "stdout"
        }
      ]
    },
    {
      "cell_type": "markdown",
      "metadata": {
        "id": "5KHOWF6FhVHV"
      },
      "source": [
        "##### Q3. Write a program that prompts the user to enter a month (as a number), then prints the name of the month and the number of days in that month. Ensure that the user inputs a valid month and handle any error cases.\n",
        "\n",
        "```\n",
        "Enter the month number: 9\n",
        "September has 30 days\n",
        "```"
      ]
    },
    {
      "cell_type": "code",
      "metadata": {
        "id": "KhS-SAEThyTG",
        "colab": {
          "base_uri": "https://localhost:8080/"
        },
        "outputId": "032b99e0-ec86-496b-9320-edad776ed9a5"
      },
      "source": [
        "userInput = int(input(print(\"Enter the month number: \")))  \r\n",
        "if userInput == 1:\r\n",
        "  print(\"January has 31 days\")\r\n",
        "elif userInput == 2:\r\n",
        "  print(\"February has 28 days\")\r\n",
        "elif userInput == 3:\r\n",
        "  print(\"March has 31 days\")\r\n",
        "elif userInput == 4:\r\n",
        "  print(\"April has 30 days\")\r\n",
        "elif userInput == 5:\r\n",
        "  print(\"May has 31 days\")\r\n",
        "elif userInput == 6:\r\n",
        "  print(\"June has 30 days\")\r\n",
        "elif userInput == 7:\r\n",
        "  print(\"July has 31 days\")\r\n",
        "elif userInput == 8:\r\n",
        "  print(\"August has 31 days\")\r\n",
        "elif userInput == 9:\r\n",
        "  print(\"September has 30 days\")\r\n",
        "elif userInput == 10:\r\n",
        "  print(\"October has 31 days\")\r\n",
        "elif userInput == 11:\r\n",
        "  print(\"November has 30 days\")\r\n",
        "elif userInput == 12:\r\n",
        "  print(\"December has 31 days\")\r\n",
        "else:\r\n",
        "  print(\"Invalid Input\")  "
      ],
      "execution_count": 7,
      "outputs": [
        {
          "output_type": "stream",
          "text": [
            "Enter the month number: \n",
            "90\n",
            "Invalid Input\n"
          ],
          "name": "stdout"
        }
      ]
    },
    {
      "cell_type": "markdown",
      "metadata": {
        "id": "O7lnAdGlh6Xa"
      },
      "source": [
        "##### Q4. Write a program that prompts the user to enter a loan amount, annual interest rate, and number of years  for a car loan. Then calculate and print the monthly payment amount.\n",
        "\n",
        "Note:\n",
        "```\n",
        "PMT= [PV*i*((1+i)^n)]/[((1+i)^n)-1]\n",
        "```\n",
        "PMT is the monthly payment\n",
        "\n",
        "PV is the loan amount\n",
        "\n",
        "i is the interest rate per month in decimal form (interest rate percentage divided by 12)\n",
        "\n",
        "n is the number of months (term of the loan in months)\n",
        "\n",
        "```\n",
        "Loan Amount: 30000.00\n",
        "Annual Interest Rate: 4.00\n",
        "Years: 5\n",
        "Your monthly payment is: $552.50\n",
        "```"
      ]
    },
    {
      "cell_type": "code",
      "metadata": {
        "id": "p4B5JH5GiTs9",
        "colab": {
          "base_uri": "https://localhost:8080/"
        },
        "outputId": "ed0a8f44-f43d-4420-dcc0-bf75f2127953"
      },
      "source": [
        "loanInput = float(input(print(\"Loan Amount: \")))\r\n",
        "interestInput = float(input(print(\"Annual Interest Rate: \"))) / 100\r\n",
        "yearsInput = int(input(print(\"Years: \")))\r\n",
        "monthlyPay = (loanInput * (interestInput / 12) * ((1 + (interestInput / 12)) ** (yearsInput * 12))) / (((1 + (interestInput / 12)) ** (yearsInput * 12) - 1))\r\n",
        "print(\"Your monthly payment is: $\" + str(round(monthlyPay, 2)))"
      ],
      "execution_count": 9,
      "outputs": [
        {
          "output_type": "stream",
          "text": [
            "Loan Amount: \n",
            "30000\n",
            "Annual Interest Rate: \n",
            "4\n",
            "Years: \n",
            "5\n",
            "Your monthly payment is: $552.5\n"
          ],
          "name": "stdout"
        }
      ]
    },
    {
      "cell_type": "markdown",
      "metadata": {
        "id": "SjiolJKgiWV-"
      },
      "source": [
        "##### Q5. Write a program to that prompts the user to enter a string. Then check whether or not the string is a palindrome.\n",
        "\n",
        "```\n",
        "Enter a string: Madam\n",
        "Madam, is a palindrome!\n",
        "```"
      ]
    },
    {
      "cell_type": "code",
      "metadata": {
        "id": "F5_M934Ri0es",
        "colab": {
          "base_uri": "https://localhost:8080/"
        },
        "outputId": "09f265ef-d688-4b79-f9f0-9536ea4c612c"
      },
      "source": [
        "userInput = input(print(\"Enter a string: \"))\r\n",
        "newInput = userInput.lower()\r\n",
        "if newInput == newInput[::-1]:\r\n",
        "  print(userInput + \", is a palindrome!\")\r\n",
        "else: \r\n",
        "  print(userInput + \", is not a palindrome!\")"
      ],
      "execution_count": 14,
      "outputs": [
        {
          "output_type": "stream",
          "text": [
            "Enter a string: \n",
            "Hello\n",
            "Hello, is not a palindrome!\n"
          ],
          "name": "stdout"
        }
      ]
    },
    {
      "cell_type": "markdown",
      "metadata": {
        "id": "BLBD6n9vkJEu"
      },
      "source": [
        "##### Q6. Write a program to compute and print all possible combinations of change for \\$1. Denominations to be considered – quarter, dime, nickel, penny.\n",
        "\n",
        "Hint: Use nested loops (loops within loops for the various denominations of coins)\n",
        "\n",
        "```\n",
        "Change for $1:\n",
        "0 quarters, 0 dimes, 0 nickels, 100 pennies\n",
        "…\n",
        "4 quarters, 0 dimes, 0 nickels, 0 pennies\n",
        "```"
      ]
    },
    {
      "cell_type": "code",
      "metadata": {
        "id": "kAQsTjwDkZZ5",
        "colab": {
          "base_uri": "https://localhost:8080/"
        },
        "outputId": "e642229a-8a00-4177-f813-55d7e11c03b8"
      },
      "source": [
        "print(\"Change for $1:\")\r\n",
        "for quarterCount in range(5):\r\n",
        "  for dimeCount in range(11):\r\n",
        "    for nickelCount in range(26):\r\n",
        "      for pennyCount in range(101):\r\n",
        "        if quarterCount * 0.25 + dimeCount * 10 + nickelCount * 0.05 + pennyCount * 0.01 == 1:\r\n",
        "          print(str(quarterCount) + \" quarters, \" + str(dimeCount) + \" dimes, \" + str(nickelCount) + \" nickels, \" + str(pennyCount) + \" pennies\")"
      ],
      "execution_count": 42,
      "outputs": [
        {
          "output_type": "stream",
          "text": [
            "Change for $1:\n",
            "0 quarters, 0 dimes, 0 nickels, 100 pennies\n",
            "0 quarters, 0 dimes, 1 nickels, 95 pennies\n",
            "0 quarters, 0 dimes, 2 nickels, 90 pennies\n",
            "0 quarters, 0 dimes, 3 nickels, 85 pennies\n",
            "0 quarters, 0 dimes, 4 nickels, 80 pennies\n",
            "0 quarters, 0 dimes, 5 nickels, 75 pennies\n",
            "0 quarters, 0 dimes, 6 nickels, 70 pennies\n",
            "0 quarters, 0 dimes, 7 nickels, 65 pennies\n",
            "0 quarters, 0 dimes, 8 nickels, 60 pennies\n",
            "0 quarters, 0 dimes, 9 nickels, 55 pennies\n",
            "0 quarters, 0 dimes, 10 nickels, 50 pennies\n",
            "0 quarters, 0 dimes, 11 nickels, 45 pennies\n",
            "0 quarters, 0 dimes, 12 nickels, 40 pennies\n",
            "0 quarters, 0 dimes, 13 nickels, 35 pennies\n",
            "0 quarters, 0 dimes, 14 nickels, 30 pennies\n",
            "0 quarters, 0 dimes, 15 nickels, 25 pennies\n",
            "0 quarters, 0 dimes, 16 nickels, 20 pennies\n",
            "0 quarters, 0 dimes, 17 nickels, 15 pennies\n",
            "0 quarters, 0 dimes, 18 nickels, 10 pennies\n",
            "0 quarters, 0 dimes, 19 nickels, 5 pennies\n",
            "0 quarters, 0 dimes, 20 nickels, 0 pennies\n",
            "1 quarters, 0 dimes, 0 nickels, 75 pennies\n",
            "1 quarters, 0 dimes, 1 nickels, 70 pennies\n",
            "1 quarters, 0 dimes, 2 nickels, 65 pennies\n",
            "1 quarters, 0 dimes, 3 nickels, 60 pennies\n",
            "1 quarters, 0 dimes, 4 nickels, 55 pennies\n",
            "1 quarters, 0 dimes, 5 nickels, 50 pennies\n",
            "1 quarters, 0 dimes, 6 nickels, 45 pennies\n",
            "1 quarters, 0 dimes, 7 nickels, 40 pennies\n",
            "1 quarters, 0 dimes, 8 nickels, 35 pennies\n",
            "1 quarters, 0 dimes, 9 nickels, 30 pennies\n",
            "1 quarters, 0 dimes, 10 nickels, 25 pennies\n",
            "1 quarters, 0 dimes, 11 nickels, 20 pennies\n",
            "1 quarters, 0 dimes, 12 nickels, 15 pennies\n",
            "1 quarters, 0 dimes, 13 nickels, 10 pennies\n",
            "1 quarters, 0 dimes, 14 nickels, 5 pennies\n",
            "1 quarters, 0 dimes, 15 nickels, 0 pennies\n",
            "2 quarters, 0 dimes, 0 nickels, 50 pennies\n",
            "2 quarters, 0 dimes, 1 nickels, 45 pennies\n",
            "2 quarters, 0 dimes, 2 nickels, 40 pennies\n",
            "2 quarters, 0 dimes, 3 nickels, 35 pennies\n",
            "2 quarters, 0 dimes, 4 nickels, 30 pennies\n",
            "2 quarters, 0 dimes, 5 nickels, 25 pennies\n",
            "2 quarters, 0 dimes, 6 nickels, 20 pennies\n",
            "2 quarters, 0 dimes, 7 nickels, 15 pennies\n",
            "2 quarters, 0 dimes, 8 nickels, 10 pennies\n",
            "2 quarters, 0 dimes, 9 nickels, 5 pennies\n",
            "2 quarters, 0 dimes, 10 nickels, 0 pennies\n",
            "3 quarters, 0 dimes, 0 nickels, 25 pennies\n",
            "3 quarters, 0 dimes, 1 nickels, 20 pennies\n",
            "3 quarters, 0 dimes, 2 nickels, 15 pennies\n",
            "3 quarters, 0 dimes, 3 nickels, 10 pennies\n",
            "3 quarters, 0 dimes, 4 nickels, 5 pennies\n",
            "3 quarters, 0 dimes, 5 nickels, 0 pennies\n",
            "4 quarters, 0 dimes, 0 nickels, 0 pennies\n"
          ],
          "name": "stdout"
        }
      ]
    },
    {
      "cell_type": "markdown",
      "metadata": {
        "id": "rUPDjYiIkbgs"
      },
      "source": [
        "##### Q7. Ask the user to enter two positive integers between 1 and 100. Read those integers. Then output a multiplication table of the first number times the second number. \n",
        "\n",
        "Note: You have to ensure the entered numbers are between 1 and 100 only.\n",
        "\n",
        "```\n",
        "Please enter an integer: 5\n",
        "Please enter another integer: 20\n",
        "5 x 1 = 5\n",
        "5 x 2 = 10\n",
        "5 x 3 = 15\n",
        "…\n",
        "5 x 20 = 100\n",
        "```"
      ]
    },
    {
      "cell_type": "code",
      "metadata": {
        "id": "Qg0Orv1klHzA",
        "colab": {
          "base_uri": "https://localhost:8080/"
        },
        "outputId": "d6aa2fe0-4d82-46b8-ec30-1ad5aff3de27"
      },
      "source": [
        "integer1 = int(input(print(\"Please enter an integer: \")))\r\n",
        "integer2 = int(input(print(\"Please enter another integer: \")))\r\n",
        "for i in range(1, integer2 + 1):\r\n",
        "  print(str(integer1) + \" x \" + str(i) + \" = \" + str(integer1 * i))"
      ],
      "execution_count": 43,
      "outputs": [
        {
          "output_type": "stream",
          "text": [
            "Please enter an integer: \n",
            "5\n",
            "Please enter another integer: \n",
            "15\n",
            "5 x 1 = 5\n",
            "5 x 2 = 10\n",
            "5 x 3 = 15\n",
            "5 x 4 = 20\n",
            "5 x 5 = 25\n",
            "5 x 6 = 30\n",
            "5 x 7 = 35\n",
            "5 x 8 = 40\n",
            "5 x 9 = 45\n",
            "5 x 10 = 50\n",
            "5 x 11 = 55\n",
            "5 x 12 = 60\n",
            "5 x 13 = 65\n",
            "5 x 14 = 70\n",
            "5 x 15 = 75\n"
          ],
          "name": "stdout"
        }
      ]
    },
    {
      "cell_type": "markdown",
      "metadata": {
        "id": "SbnbPUPTlLD9"
      },
      "source": [
        "##### Q8. Write a program to ask the user to enter a password. Then check to see if it is a valid password based on these requirements -\n",
        "\n",
        "Must be at least 8 characters long\n",
        "\n",
        "Must contain both uppercase and lowercase letters\n",
        "\n",
        "Must contain at least one number between 0-9\n",
        "\n",
        "Must contain a special character -!,@,#,$\n",
        "\n",
        "If the password is not valid, ask the user to re-enter. This should continue until the user enters a valid password. After a valid password is entered, print Access Granted!\n",
        "\n",
        "```\n",
        "Please enter a password. Follow these requirements - \n",
        "a. Must be at least 8 characters long\n",
        "b. Must contain both uppercase and lowercase letters\n",
        "c. Must contain at least one number between 0-9\n",
        "d. Must contain a special character -!,@,#,$\n",
        "Password: HelloWorld1\n",
        "Invalid password. Try again!\n",
        "Password: Hello@World1\n",
        "Access Granted!\n",
        "```\n"
      ]
    },
    {
      "cell_type": "code",
      "metadata": {
        "id": "OXmZ177Rl-RV",
        "colab": {
          "base_uri": "https://localhost:8080/"
        },
        "outputId": "dfaa6288-0e8a-4de8-bda2-ef770ccff056"
      },
      "source": [
        "upper, lower, special, num = 0, 0, 0, 0\r\n",
        "print(\"Please enter a password. Follow these requirements - \\na. Must be at least 8 characters long\\nb. Must contain both uppercase and lowercase letters\\nc. Must contain at least one number between 0-9\\nd. Must contain a special character -!,@,#,$\")\r\n",
        "specialChar = [\"!\", \"@\", \"#\", \"$\"]\r\n",
        "numbers = [\"0\", \"1\", \"2\", \"3\", \"4\", \"5\", \"6\", \"7\", \"8\", \"9\"]\r\n",
        "passInput = input(print(\"Password: \"))\r\n",
        "start = True\r\n",
        "while start:\r\n",
        "  if len(passInput) >= 8:\r\n",
        "    for i in passInput:\r\n",
        "      if i in specialChar:\r\n",
        "        special += 1\r\n",
        "      if i in numbers:\r\n",
        "        num += 1\r\n",
        "      if i.islower():\r\n",
        "        lower += 1\r\n",
        "      if i.isupper():\r\n",
        "        upper += 1\r\n",
        "  if (upper >= 1 and lower >= 1 and special >= 1 and num >= 1):\r\n",
        "    break\r\n",
        "  else:\r\n",
        "    passInput = input(print(\"Invalid password. Try Again! Password: \"))\r\n",
        "print(\"Access granted!\")\r\n"
      ],
      "execution_count": 53,
      "outputs": [
        {
          "output_type": "stream",
          "text": [
            "Please enter a password. Follow these requirements - \n",
            "a. Must be at least 8 characters long\n",
            "b. Must contain both uppercase and lowercase letters\n",
            "c. Must contain at least one number between 0-9\n",
            "d. Must contain a special character -!,@,#,$\n",
            "Password: \n",
            "asdf\n",
            "Invalid password. Try Again! Password: \n",
            "asdf1\n",
            "Invalid password. Try Again! Password: \n",
            "asdf1@\n",
            "Invalid password. Try Again! Password: \n",
            "Asdf1@\n",
            "Invalid password. Try Again! Password: \n",
            "asdflkjIE9@\n",
            "Access granted!\n"
          ],
          "name": "stdout"
        }
      ]
    },
    {
      "cell_type": "markdown",
      "metadata": {
        "id": "-0sdutTDnTKA"
      },
      "source": [
        "##### Q9. Given the score sheet of participants in a competition, you are required to find the runner-up score. You are given scores in a list. Find the score of the runner-up.\n",
        "\n",
        "```\n",
        "list1 - [2, 3, 6, 6, 5]\n",
        "runner_up - 5\n",
        "\n",
        "list2 - [1, 7, 5, 3, 10, 4, 5, 5, 6, 11]\n",
        "runner_up - 10\n",
        "```"
      ]
    },
    {
      "cell_type": "code",
      "metadata": {
        "id": "12YP9OaqpGRK",
        "colab": {
          "base_uri": "https://localhost:8080/"
        },
        "outputId": "a331d5a3-bddc-4d6a-d90f-306acb4dfcfc"
      },
      "source": [
        "list1 = [2, 3, 6, 6, 5]\r\n",
        "list2 = [1, 7, 5, 3, 10, 4, 5, 5, 6, 11]\r\n",
        "list1.sort()\r\n",
        "list2.sort()\r\n",
        "\r\n",
        "print(\"list1: \" + str(list1))\r\n",
        "max = 0\r\n",
        "runUp = 0\r\n",
        "for i in list1:\r\n",
        "  if i > max:\r\n",
        "    max = i\r\n",
        "  for n in list1:\r\n",
        "    if n >= runUp and n < max:\r\n",
        "      runUp = n\r\n",
        "print(\"Runner up: \" + str(runUp))\r\n",
        "\r\n",
        "print(\"list2: \" + str(list2))\r\n",
        "max1 = 0\r\n",
        "runUp1 = 0\r\n",
        "for i in list2:\r\n",
        "  if i > max1:\r\n",
        "    max1 = i\r\n",
        "  for n in list2:\r\n",
        "    if n >= runUp1 and n < max1:\r\n",
        "      runUp1 = n\r\n",
        "print(\"Runner up: \" + str(runUp1))"
      ],
      "execution_count": 40,
      "outputs": [
        {
          "output_type": "stream",
          "text": [
            "list1: [2, 3, 5, 6, 6]\n",
            "Runner up: 5\n",
            "list2: [1, 3, 4, 5, 5, 5, 6, 7, 10, 11]\n",
            "Runner up: 10\n"
          ],
          "name": "stdout"
        }
      ]
    }
  ]
}